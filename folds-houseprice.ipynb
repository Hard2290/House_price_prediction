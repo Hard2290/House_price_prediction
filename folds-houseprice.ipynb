{
 "cells": [
  {
   "cell_type": "code",
   "execution_count": 1,
   "id": "088ed504",
   "metadata": {
    "_cell_guid": "b1076dfc-b9ad-4769-8c92-a6c4dae69d19",
    "_uuid": "8f2839f25d086af736a60e9eeb907d3b93b6e0e5",
    "execution": {
     "iopub.execute_input": "2025-08-13T14:37:17.832900Z",
     "iopub.status.busy": "2025-08-13T14:37:17.832038Z",
     "iopub.status.idle": "2025-08-13T14:37:21.921810Z",
     "shell.execute_reply": "2025-08-13T14:37:21.920748Z"
    },
    "papermill": {
     "duration": 4.095721,
     "end_time": "2025-08-13T14:37:21.923957",
     "exception": false,
     "start_time": "2025-08-13T14:37:17.828236",
     "status": "completed"
    },
    "tags": []
   },
   "outputs": [],
   "source": [
    "import pandas as pd\n",
    "import numpy as np\n",
    "from sklearn import model_selection"
   ]
  },
  {
   "cell_type": "code",
   "execution_count": 2,
   "id": "76092af1",
   "metadata": {
    "execution": {
     "iopub.execute_input": "2025-08-13T14:37:21.929805Z",
     "iopub.status.busy": "2025-08-13T14:37:21.929249Z",
     "iopub.status.idle": "2025-08-13T14:37:22.014952Z",
     "shell.execute_reply": "2025-08-13T14:37:22.013897Z"
    },
    "papermill": {
     "duration": 0.090776,
     "end_time": "2025-08-13T14:37:22.017006",
     "exception": false,
     "start_time": "2025-08-13T14:37:21.926230",
     "status": "completed"
    },
    "tags": []
   },
   "outputs": [],
   "source": [
    "train = pd.read_csv(\"/kaggle/input/home-data-for-ml-course/train.csv\")\n",
    "test = pd.read_csv(\"/kaggle/input/home-data-for-ml-course/test.csv\")"
   ]
  },
  {
   "cell_type": "code",
   "execution_count": 3,
   "id": "54f78469",
   "metadata": {
    "execution": {
     "iopub.execute_input": "2025-08-13T14:37:22.022224Z",
     "iopub.status.busy": "2025-08-13T14:37:22.021881Z",
     "iopub.status.idle": "2025-08-13T14:37:22.041702Z",
     "shell.execute_reply": "2025-08-13T14:37:22.040663Z"
    },
    "papermill": {
     "duration": 0.024623,
     "end_time": "2025-08-13T14:37:22.043646",
     "exception": false,
     "start_time": "2025-08-13T14:37:22.019023",
     "status": "completed"
    },
    "tags": []
   },
   "outputs": [],
   "source": [
    "train[\"kfold\"] = -1\n",
    "kf = model_selection.KFold(n_splits = 5, shuffle = True, random_state = 8)\n",
    "for fold, (train_indices, valid_indices) in enumerate(kf.split(X = train)):\n",
    "    train.loc[valid_indices, \"kfold\"] = fold"
   ]
  },
  {
   "cell_type": "code",
   "execution_count": 4,
   "id": "1ff03976",
   "metadata": {
    "execution": {
     "iopub.execute_input": "2025-08-13T14:37:22.049097Z",
     "iopub.status.busy": "2025-08-13T14:37:22.048728Z",
     "iopub.status.idle": "2025-08-13T14:37:22.098650Z",
     "shell.execute_reply": "2025-08-13T14:37:22.097636Z"
    },
    "papermill": {
     "duration": 0.055083,
     "end_time": "2025-08-13T14:37:22.100779",
     "exception": false,
     "start_time": "2025-08-13T14:37:22.045696",
     "status": "completed"
    },
    "tags": []
   },
   "outputs": [],
   "source": [
    "train.to_csv(\"houseprice_folds.csv\", index = False)"
   ]
  }
 ],
 "metadata": {
  "kaggle": {
   "accelerator": "none",
   "dataSources": [
    {
     "databundleVersionId": 111096,
     "sourceId": 10211,
     "sourceType": "competition"
    }
   ],
   "dockerImageVersionId": 31089,
   "isGpuEnabled": false,
   "isInternetEnabled": true,
   "language": "python",
   "sourceType": "notebook"
  },
  "kernelspec": {
   "display_name": "Python 3",
   "language": "python",
   "name": "python3"
  },
  "language_info": {
   "codemirror_mode": {
    "name": "ipython",
    "version": 3
   },
   "file_extension": ".py",
   "mimetype": "text/x-python",
   "name": "python",
   "nbconvert_exporter": "python",
   "pygments_lexer": "ipython3",
   "version": "3.11.13"
  },
  "papermill": {
   "default_parameters": {},
   "duration": 10.478454,
   "end_time": "2025-08-13T14:37:22.826079",
   "environment_variables": {},
   "exception": null,
   "input_path": "__notebook__.ipynb",
   "output_path": "__notebook__.ipynb",
   "parameters": {},
   "start_time": "2025-08-13T14:37:12.347625",
   "version": "2.6.0"
  }
 },
 "nbformat": 4,
 "nbformat_minor": 5
}
